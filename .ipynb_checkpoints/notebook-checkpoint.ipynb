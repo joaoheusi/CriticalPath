{
 "cells": [
  {
   "cell_type": "markdown",
   "metadata": {},
   "source": [
    "# Trabalho de Caminho Crítico\n"
   ]
  },
  {
   "cell_type": "markdown",
   "metadata": {},
   "source": [
    "## Inserir os dados na célula abaixo conforme exemplo"
   ]
  },
  {
   "cell_type": "code",
   "execution_count": null,
   "metadata": {},
   "outputs": [],
   "source": [
    "nodeList         = ['1', '2' , '3' , '4' ,   '5'   , '6' ,  'Fim'  ]\n",
    "weightsList      = [10 ,  4  ,  7  ,  5  ,    5    ,  2  ,    1    ]\n",
    "predecessorsList = [[] ,['1'],['1'],['3'],['2','4'],['3'],['5','6']]"
   ]
  },
  {
   "cell_type": "code",
   "execution_count": null,
   "metadata": {},
   "outputs": [],
   "source": [
    "import networkx as nx\n",
    "\n",
    "g = nx.DiGraph()\n",
    "\n",
    "def addNodes(graph,nodeList= nodeList):\n",
    "    try:\n",
    "        graph.add_nodes_from(nodeList)\n",
    "        return True\n",
    "    except:\n",
    "        print('Erro ao adicionar vértices')\n",
    "        return False\n",
    "\n",
    "def addEdges(graph,nodeList = nodeList, weightsList = weightsList,predecessorsList=predecessorsList):\n",
    "    for i,individualPredecessors in enumerate(predecessorsList):\n",
    "        node = nodeList[i]\n",
    "        for predecessor in individualPredecessors:\n",
    "            graph.add_edge(predecessor,node, weight = weightsList[nodeList.index(predecessor)])\n",
    "\n",
    "\n",
    "def path_weight(graph,path):\n",
    "    weight = 0\n",
    "    for i,node in enumerate(path):\n",
    "        if (i+1) in range(len(path)):\n",
    "            weight += graph.get_edge_data(path[i],path[i+1]).get('weight')\n",
    "    return weight\n",
    "\n",
    "def take_second(elem):\n",
    "    return elem[1]\n",
    "\n",
    "def critical_path(graph,paths):\n",
    "    paths_and_weights = []\n",
    "    for path in paths:\n",
    "        paths_and_weights.append((path,path_weight(graph,path)))\n",
    "\n",
    "    paths_and_weights.sort(key=take_second,reverse=True)\n",
    "    return paths_and_weights[0]\n",
    "\n",
    "def find_gaps(graph,paths):\n",
    "    paths_and_weights = []\n",
    "    for path in paths:\n",
    "        paths_and_weights.append((path,path_weight(graph,path)))\n",
    "\n",
    "    paths_and_weights.sort(key=take_second,reverse=True)\n",
    "\n",
    "    gaps = []\n",
    "    for i,path in enumerate(paths_and_weights):\n",
    "        if i != 0:\n",
    "            gap = set(paths_and_weights[0][0]) - set(paths_and_weights[i][0])\n",
    "            gap_value = paths_and_weights[0][1] - paths_and_weights[i][1]\n",
    "            gaps.append([gap,gap_value])\n",
    "\n",
    "    for i,gap in enumerate(gaps):\n",
    "        for x,gap in enumerate(gaps):\n",
    "            if i != x:\n",
    "                a_set = set(gaps[i][0])\n",
    "                b_set = set(gaps[x][0])\n",
    "                if(a_set & b_set):\n",
    "                    gaps[i][0] = a_set - (a_set & b_set)\n",
    "                    gaps[x][0] = b_set - (a_set & b_set)\n",
    "\n",
    "    return gaps\n",
    "\n",
    "addNodes(g)\n",
    "addEdges(g)\n",
    "\n",
    "paths = [path for path in nx.all_simple_paths(g,'1','Fim')]\n",
    "\n",
    "critico = critical_path(g,paths)"
   ]
  },
  {
   "cell_type": "markdown",
   "metadata": {},
   "source": [
    "# Resultados saem executando abaixo:"
   ]
  },
  {
   "cell_type": "code",
   "execution_count": null,
   "metadata": {},
   "outputs": [],
   "source": [
    "print(\"O caminho crítico identificado foi: {}, com duração de {}.\\n\\n\".format(critico[0],critico[1]))\n",
    "\n",
    "print(\"A(s) folga(s) encontrada(s) foram:\")\n",
    "for folga in find_gaps(g,paths):\n",
    "    print(\"Atividade: {}, duração da folga: {}\".format(folga[0],folga[1]))"
   ]
  },
  {
   "cell_type": "code",
   "execution_count": null,
   "metadata": {},
   "outputs": [],
   "source": []
  }
 ],
 "metadata": {
  "kernelspec": {
   "display_name": "Python 3",
   "language": "python",
   "name": "python3"
  },
  "language_info": {
   "codemirror_mode": {
    "name": "ipython",
    "version": 3
   },
   "file_extension": ".py",
   "mimetype": "text/x-python",
   "name": "python",
   "nbconvert_exporter": "python",
   "pygments_lexer": "ipython3",
   "version": "3.8.3"
  }
 },
 "nbformat": 4,
 "nbformat_minor": 4
}
